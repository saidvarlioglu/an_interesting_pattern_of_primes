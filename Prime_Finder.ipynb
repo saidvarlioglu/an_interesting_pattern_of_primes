{
 "cells": [
  {
   "cell_type": "code",
   "execution_count": null,
   "metadata": {},
   "outputs": [],
   "source": [
    "import matplotlib.pyplot as plt\n",
    "%matplotlib inline\n",
    "import numpy as np\n",
    "import pandas as pd\n",
    "import seaborn as sns"
   ]
  },
  {
   "cell_type": "code",
   "execution_count": null,
   "metadata": {},
   "outputs": [],
   "source": [
    "from plotly import __version__\n",
    "from plotly.offline import download_plotlyjs, init_notebook_mode, plot, iplot\n",
    "\n",
    "print(__version__) # requires version >= 1.9.0"
   ]
  },
  {
   "cell_type": "code",
   "execution_count": null,
   "metadata": {},
   "outputs": [],
   "source": [
    "import cufflinks as cf"
   ]
  },
  {
   "cell_type": "code",
   "execution_count": null,
   "metadata": {},
   "outputs": [],
   "source": [
    "# For Notebooks\n",
    "init_notebook_mode(connected=True)"
   ]
  },
  {
   "cell_type": "code",
   "execution_count": null,
   "metadata": {},
   "outputs": [],
   "source": [
    "# For offline use\n",
    "cf.go_offline()"
   ]
  },
  {
   "cell_type": "code",
   "execution_count": null,
   "metadata": {},
   "outputs": [],
   "source": [
    "def prime_generator_via_the_pattern():\n",
    "    \n",
    "    \n",
    "    \"\"\"\n",
    "    After finding a pattern in the numbers symmetric spiral, we can find primes much more easily:\n",
    "    more info and the spiral picture:\n",
    "    \"\"\"\n",
    "    \n",
    "    print(\"\\nPRIME NUMBER FINDER using SYMMETRIC NUMBERS SPIRAL\")\n",
    "    Prime_List = [23]\n",
    "    x=int(input(\"\\n\\nHow many possible prime numbers do you want: \"))\n",
    "    t = x-1\n",
    "    \n",
    "    for n in range(t):\n",
    "        n+=1\n",
    "        Prime_List.append(Prime_List[n-1]+50+8*(n-1))      ##creating a prime number list\n",
    "        \n",
    "    print (\"\\nAccording to the pattern, \\nin your list, the biggest number is: \", Prime_List[t])\n",
    "    \n",
    "    if x>0:\n",
    "        print(\"\\n.  .  .   Checking whether it is prime or not. .  .   It may take for a while . . Please Wait ! ! !\")\n",
    "    \n",
    "    for i in range(2, Prime_List[t]):\n",
    "        if (Prime_List[t] % i) == 0:\n",
    "            print(\"\\n>>>>>>>>>>>>\",Prime_List[t], \"is NOT a Prime Number\")\n",
    "            print(\">>>>>>>>>>>>\",i,\"times\",Prime_List[t]//i,\"is\",Prime_List[t])\n",
    "            break\n",
    "    else:\n",
    "        print(\">>>>>>>\",Prime_List[t], \"is a Prime Number <<<<<<<<<\")\n",
    "        \n",
    "    ##print(\"\\nHere is the {} possible prime numbers list:\" .format(x))\n",
    "    \n",
    "    Not_Prime = []\n",
    "    Prime = []\n",
    "    for z in Prime_List:\n",
    "        for y in range (2, z):\n",
    "            if (z % y) == 0:\n",
    "                ##print(\"\\n>>>>>>>>>>>>\",z, \"is NOT a Prime Number\")\n",
    "                ##print(\">>>>>>>>>>>>\",y,\"times\",z//y,\"is\",z)\n",
    "                Not_Prime.append(z)\n",
    "                break\n",
    "        else:\n",
    "            Prime.append(z)\n",
    "            ##print(\"\\n>>>>>>>>\",z, \"is a Prime Number\")\n",
    "            \n",
    "    print(\"\\n.  .  .   Checking . .  .  It may take for a while . . .\")\n",
    "    print(\"\\nThe number of PRIME numbers in your list       :   \",len(Prime), \"<<<<<<<<<<<<<<<\")\n",
    "    print(\"\\nThe number of Composite numbers in your list   :   \",len(Not_Prime),\" <<<<<<<<<<<<<<<\")\n",
    "    print(\"\\nThe success rate is: %\", 100*len(Prime)/x)\n",
    "    print(\"\\n\\n\\nLet's visualize that:\")\n",
    "\n",
    "    \n",
    "    Not_Prime_Loc = []\n",
    "    for g in range (0,len(Not_Prime)):\n",
    "        for b in range (0,len(Prime_List)):\n",
    "            if Not_Prime[g] == Prime_List[b]:\n",
    "                Not_Prime_Loc.append(b)\n",
    "    \n",
    "    \n",
    "    Prime_Loc = []\n",
    "    for h in range (0,len(Prime)):\n",
    "        for u in range (0,len(Prime_List)):\n",
    "            if Prime[h] == Prime_List[u]:\n",
    "                Prime_Loc.append(u)\n",
    "                \n",
    "\n",
    "    ##plt.figure(figsize=(16,10))\n",
    "\n",
    "    \n",
    "    ##plt.scatter(Not_Prime_Loc,Not_Prime,label=\"Composite Numbers\",color=\"red\",marker=\".\")\n",
    "    ##plt.scatter(Prime_Loc,Prime,label=\"PRIME Numbers\",color=\"blue\",marker=\"|\")\n",
    "\n",
    "\n",
    "    ##plt.legend(loc=9)\n",
    "    ##plt.savefig('justprimes.png',dpi=100)\n",
    "      \n",
    "    df1 = pd.DataFrame({'x':Prime_Loc,'Prime':Prime })\n",
    "    df2 = pd.DataFrame({'x':Not_Prime_Loc,'Not_Prime':Not_Prime })\n",
    "    frames = [df1, df2]\n",
    "    df3 = pd.concat(frames,sort=True)\n",
    "    df3.iplot(kind='scatter',x='x',y=['Not_Prime','Prime'],mode='markers',size=8)"
   ]
  },
  {
   "cell_type": "code",
   "execution_count": null,
   "metadata": {
    "scrolled": false
   },
   "outputs": [],
   "source": [
    "prime_generator_via_the_pattern()"
   ]
  },
  {
   "cell_type": "code",
   "execution_count": null,
   "metadata": {},
   "outputs": [],
   "source": []
  },
  {
   "cell_type": "code",
   "execution_count": null,
   "metadata": {},
   "outputs": [],
   "source": []
  }
 ],
 "metadata": {
  "kernelspec": {
   "display_name": "Python 3",
   "language": "python",
   "name": "python3"
  },
  "language_info": {
   "codemirror_mode": {
    "name": "ipython",
    "version": 3
   },
   "file_extension": ".py",
   "mimetype": "text/x-python",
   "name": "python",
   "nbconvert_exporter": "python",
   "pygments_lexer": "ipython3",
   "version": "3.7.3"
  }
 },
 "nbformat": 4,
 "nbformat_minor": 2
}
